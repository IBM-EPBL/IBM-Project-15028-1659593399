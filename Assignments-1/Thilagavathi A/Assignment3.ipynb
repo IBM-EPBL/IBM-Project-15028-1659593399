{
 "cells": [
  {
   "cell_type": "markdown",
   "id": "3244af24",
   "metadata": {},
   "source": [
    "                                                      Exercises\n",
    "Answer the questions or complete the tasks outlined in bold below, use the specific method described if applicable.\n",
    "\n",
    "What is 7 to the power of 4?"
   ]
  },
  {
   "cell_type": "code",
   "execution_count": 1,
   "id": "7ae26dac",
   "metadata": {},
   "outputs": [
    {
     "name": "stdout",
     "output_type": "stream",
     "text": [
      "2401\n"
     ]
    }
   ],
   "source": [
    "print(7**4)"
   ]
  },
  {
   "cell_type": "markdown",
   "id": "e4c12d76",
   "metadata": {},
   "source": [
    "# Split this string:\n",
    "\n",
    "s = \"Hi there Sam!\"\n",
    "into the list."
   ]
  },
  {
   "cell_type": "code",
   "execution_count": 2,
   "id": "453c38eb",
   "metadata": {},
   "outputs": [],
   "source": [
    "s = \"Hi there dad!\"\n",
    "x = s.split(\" \")"
   ]
  },
  {
   "cell_type": "code",
   "execution_count": 3,
   "id": "ceb1cf31",
   "metadata": {},
   "outputs": [
    {
     "name": "stdout",
     "output_type": "stream",
     "text": [
      "['Hi', 'there', 'dad!']\n"
     ]
    }
   ],
   "source": [
    "print(x)"
   ]
  },
  {
   "cell_type": "markdown",
   "id": "adc6c239",
   "metadata": {},
   "source": [
    "# Given the variables:\n",
    "\n",
    "planet = \"Earth\"\n",
    "diameter = 12742\n",
    "\n",
    "Use .format() to print the following string:\n",
    "\n",
    "The diameter of Earth is 12742 kilometers."
   ]
  },
  {
   "cell_type": "code",
   "execution_count": 4,
   "id": "e6c83fcc",
   "metadata": {},
   "outputs": [],
   "source": [
    "planet = \"Earth\"\n",
    "diameter = 12742"
   ]
  },
  {
   "cell_type": "code",
   "execution_count": 5,
   "id": "9bbca4c5",
   "metadata": {},
   "outputs": [
    {
     "name": "stdout",
     "output_type": "stream",
     "text": [
      "The diameter of the Earth is 12742 kilometers\n"
     ]
    }
   ],
   "source": [
    "print(\"The diameter of the {} is {} kilometers\".format(planet, diameter))"
   ]
  },
  {
   "cell_type": "markdown",
   "id": "1134c198",
   "metadata": {},
   "source": [
    "# Given this nested list, use indexing to grab the word \"hello\""
   ]
  },
  {
   "cell_type": "code",
   "execution_count": 6,
   "id": "b59ab084",
   "metadata": {},
   "outputs": [],
   "source": [
    "lst = [1,2,[3,4],[5,[100,200,['hello']],23,11],1,7]"
   ]
  },
  {
   "cell_type": "code",
   "execution_count": 7,
   "id": "08d2a7a3",
   "metadata": {},
   "outputs": [
    {
     "name": "stdout",
     "output_type": "stream",
     "text": [
      "hello\n"
     ]
    }
   ],
   "source": [
    "print(lst[3][1][2][0])"
   ]
  },
  {
   "cell_type": "markdown",
   "id": "b8b6f9ee",
   "metadata": {},
   "source": [
    "# Given this nest dictionary grab the word \"hello\". Be prepared, this will be annoying/tricky"
   ]
  },
  {
   "cell_type": "code",
   "execution_count": 8,
   "id": "ea6f689f",
   "metadata": {},
   "outputs": [
    {
     "name": "stdout",
     "output_type": "stream",
     "text": [
      "hello\n"
     ]
    }
   ],
   "source": [
    "d = {'k1':[1,2,3,{'tricky':['oh','man','inception',{'target':[1,2,3,'hello']}]}]}\n",
    "print(d['k1'][3]['tricky'][3]['target'][3])"
   ]
  },
  {
   "cell_type": "markdown",
   "id": "7c85e26d",
   "metadata": {},
   "source": [
    "# What is the main difference between a tuple and a list?"
   ]
  },
  {
   "cell_type": "code",
   "execution_count": 9,
   "id": "c04d054f",
   "metadata": {},
   "outputs": [
    {
     "name": "stdout",
     "output_type": "stream",
     "text": [
      "List is mutable and Tuple is immutable.\n"
     ]
    }
   ],
   "source": [
    "print(\"List is mutable and Tuple is immutable.\")"
   ]
  },
  {
   "cell_type": "markdown",
   "id": "88ae9fe2",
   "metadata": {},
   "source": [
    "# Create a function that grabs the email website domain from a string in the form:\n",
    "\n",
    "user@domain.com\n",
    "\n",
    "So for example, passing \"user@domain.com\" would return: domain.com"
   ]
  },
  {
   "cell_type": "code",
   "execution_count": 10,
   "id": "f1b8a0ad",
   "metadata": {},
   "outputs": [],
   "source": [
    "test_str = \"user@domain.com\"\n",
    "res = test_str[test_str.index('@') + 1 : ]"
   ]
  },
  {
   "cell_type": "code",
   "execution_count": 11,
   "id": "db9293bb",
   "metadata": {},
   "outputs": [
    {
     "name": "stdout",
     "output_type": "stream",
     "text": [
      "domain.com\n"
     ]
    }
   ],
   "source": [
    "print(res)"
   ]
  },
  {
   "cell_type": "markdown",
   "id": "b479f63e",
   "metadata": {},
   "source": [
    "# Create a basic function that returns True if the word 'dog' is contained in the input string. Don't worry about edge cases like a punctuation being attached to the word dog, but do account for capitalization."
   ]
  },
  {
   "cell_type": "code",
   "execution_count": 12,
   "id": "020f2dfe",
   "metadata": {},
   "outputs": [],
   "source": [
    "def fun(txt):\n",
    "  dog=\"\"\n",
    "  for i in txt:\n",
    "    if i!=\" \":\n",
    "      dog+=i\n",
    "    else:\n",
    "      if \"dog\"==dog.lower():\n",
    "        return True\n",
    "      dog=\"\"\n",
    "  return False"
   ]
  },
  {
   "cell_type": "code",
   "execution_count": 13,
   "id": "c19c427a",
   "metadata": {},
   "outputs": [
    {
     "data": {
      "text/plain": [
       "True"
      ]
     },
     "execution_count": 13,
     "metadata": {},
     "output_type": "execute_result"
    }
   ],
   "source": [
    "fun(\"Dog is a loyal animal.\")"
   ]
  },
  {
   "cell_type": "markdown",
   "id": "277c0204",
   "metadata": {},
   "source": [
    "# Create a function that counts the number of times the word \"dog\" occurs in a string. Again ignore edge cases."
   ]
  },
  {
   "cell_type": "code",
   "execution_count": 14,
   "id": "92c5fb7e",
   "metadata": {},
   "outputs": [],
   "source": [
    "s = \"Dog is a loyal animal. Dog is also raised as a pet animal. So don't fret by seeing the dog.\"\n",
    "split = s.split(\" \")\n",
    "k = 0\n",
    "for i in split:\n",
    "    if(\"dog\" in i.lower()):\n",
    "        k = k + 1"
   ]
  },
  {
   "cell_type": "code",
   "execution_count": 15,
   "id": "1a01f124",
   "metadata": {},
   "outputs": [
    {
     "name": "stdout",
     "output_type": "stream",
     "text": [
      "3\n"
     ]
    }
   ],
   "source": [
    "print(k)"
   ]
  },
  {
   "cell_type": "markdown",
   "id": "c4dc5810",
   "metadata": {},
   "source": [
    "# Problem\n",
    "You are driving a little too fast, and a police officer stops you. Write a function to return one of 3 possible results: \"No ticket\", \"Small ticket\", or \"Big Ticket\". If your speed is 60 or less, the result is \"No Ticket\". If speed is between 61 and 80 inclusive, the result is \"Small Ticket\". If speed is 81 or more, the result is \"Big Ticket\". Unless it is your birthday (encoded as a boolean value in the parameters of the function) -- on your birthday, your speed can be 5 higher in all cases."
   ]
  },
  {
   "cell_type": "code",
   "execution_count": 16,
   "id": "cbd2fbac",
   "metadata": {},
   "outputs": [],
   "source": [
    "def caught_speeding(speed, is_birthday):\n",
    "    \n",
    "    if is_birthday:\n",
    "        speeding = speed - 5\n",
    "    else:\n",
    "        speeding = speed\n",
    "    \n",
    "    if speeding > 80:\n",
    "        return 'Big Ticket'\n",
    "    elif speeding > 60:\n",
    "        return 'Small Ticket'\n",
    "    else:\n",
    "        return 'No Ticket'"
   ]
  },
  {
   "cell_type": "code",
   "execution_count": 17,
   "id": "e2476721",
   "metadata": {},
   "outputs": [
    {
     "data": {
      "text/plain": [
       "'Big Ticket'"
      ]
     },
     "execution_count": 17,
     "metadata": {},
     "output_type": "execute_result"
    }
   ],
   "source": [
    "caught_speeding(91,0)"
   ]
  },
  {
   "cell_type": "code",
   "execution_count": 18,
   "id": "15045717",
   "metadata": {},
   "outputs": [
    {
     "data": {
      "text/plain": [
       "'Small Ticket'"
      ]
     },
     "execution_count": 18,
     "metadata": {},
     "output_type": "execute_result"
    }
   ],
   "source": [
    "caught_speeding(84,1)\n"
   ]
  },
  {
   "cell_type": "markdown",
   "id": "5c5250bf",
   "metadata": {},
   "source": [
    "# Create an employee list with basic salary values(at least 5 values for 5 employees) and using a for loop retreive each employee salary and calculate total salary expenditure."
   ]
  },
  {
   "cell_type": "code",
   "execution_count": 19,
   "id": "12979ea7",
   "metadata": {},
   "outputs": [
    {
     "name": "stdout",
     "output_type": "stream",
     "text": [
      "253000\n"
     ]
    }
   ],
   "source": [
    "emp_list = [23000, 45000, 65000, 50000, 70000]\n",
    "sum = 0;\n",
    "for i in emp_list:\n",
    "  sum = sum + i;\n",
    "print(sum)"
   ]
  },
  {
   "cell_type": "markdown",
   "id": "544583e4",
   "metadata": {},
   "source": [
    "# Create two dictionaries in Python:\n",
    "\n",
    "First one to contain fields as Empid, Empname, Basicpay\n",
    "\n",
    "Second dictionary to contain fields as DeptName, DeptId.\n",
    "\n",
    "Combine both dictionaries."
   ]
  },
  {
   "cell_type": "code",
   "execution_count": 20,
   "id": "b680726e",
   "metadata": {},
   "outputs": [
    {
     "name": "stdout",
     "output_type": "stream",
     "text": [
      "{'Empid': 1, 'Empname': 'Shiva', 'Basicpay': '20000', 'DeptName': 'Information Technology', 'DeptID': 5}\n"
     ]
    }
   ],
   "source": [
    "dict1 = {}\n",
    "dict2 = {}\n",
    "dict1['Empid']= 1\n",
    "dict1['Empname']= \"Shiva\"\n",
    "dict1['Basicpay']= \"20000\"\n",
    "dict2['DeptName']= \"Information Technology\"\n",
    "dict2['DeptID']= 5\n",
    "dict1.update(dict2)\n",
    "print(dict1)"
   ]
  }
 ],
 "metadata": {
  "kernelspec": {
   "display_name": "Python 3",
   "language": "python",
   "name": "python3"
  },
  "language_info": {
   "codemirror_mode": {
    "name": "ipython",
    "version": 3
   },
   "file_extension": ".py",
   "mimetype": "text/x-python",
   "name": "python",
   "nbconvert_exporter": "python",
   "pygments_lexer": "ipython3",
   "version": "3.8.8"
  }
 },
 "nbformat": 4,
 "nbformat_minor": 5
}
